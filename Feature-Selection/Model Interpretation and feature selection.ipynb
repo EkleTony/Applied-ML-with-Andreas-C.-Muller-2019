{
 "cells": [
  {
   "cell_type": "markdown",
   "metadata": {},
   "source": [
    "# Types of Explanation to check out\n",
    "\n",
    "1. Kind of Model\n",
    " How would the model change if the feature was dropped \n",
    "\n",
    "2. Explain Model Globally\n",
    "How does that output depends on the input\n",
    "\n",
    "3. Explain model locally\n",
    "why did it classify this point this way? \n",
    "\n",
    "# Features important to the models\n",
    "\n",
    " For linear models we look at\n",
    "1. coef_ for linear models\n",
    "2. feature_importances_ for tree based models\n",
    "\n",
    "# Drop Feature Importance\n",
    "\n",
    "# Permutation Importance\n",
    "**Measure marginal influence of one feature**"
   ]
  },
  {
   "cell_type": "markdown",
   "metadata": {},
   "source": [
    "# Feature Selection"
   ]
  },
  {
   "cell_type": "markdown",
   "metadata": {},
   "source": [
    "# why select Features?"
   ]
  },
  {
   "cell_type": "markdown",
   "metadata": {},
   "source": [
    "1. Avoid overfitting \n",
    "\n",
    "2. Faster prediction and training\n",
    "\n",
    "3. less storage for model and dataset\n",
    "\n",
    "4. more interpretable model"
   ]
  },
  {
   "cell_type": "markdown",
   "metadata": {},
   "source": [
    "# Types of Feature Selection\n",
    "\n",
    "1. unsupervised vs Supervised\n",
    "\n",
    "2. Univariate vs Multivariate\n",
    "\n",
    "3. Model based or not\n",
    "\n",
    "# Unsupervised Feature Selection\n",
    "\n",
    "* May discard important information\n",
    "\n",
    "* Variance-based: 0 variance or few unique values\n",
    "\n",
    "* Covariance-based: remove correlated features\n",
    "\n",
    "* PCA: (Principle component analysis) remove linear subspaces"
   ]
  },
  {
   "cell_type": "markdown",
   "metadata": {},
   "source": [
    "# Supervised Feature Selection\n",
    "* Univariate Statistics\n",
    "\n",
    "Pick statistic, check p-values!\n",
    "f_regression, f_classif, chi2 in scikit-learn\n"
   ]
  },
  {
   "cell_type": "markdown",
   "metadata": {},
   "source": [
    "# Model - Based Feature Selection\n",
    "\n",
    "* Get best fit for a particular model\n",
    "* Ideally: exhaustive search over all possibe combinations\n",
    "* exhaustive is infeasible (and has multiple testing issues)\n",
    "* use heuristics in practice"
   ]
  },
  {
   "cell_type": "code",
   "execution_count": null,
   "metadata": {},
   "outputs": [],
   "source": []
  }
 ],
 "metadata": {
  "kernelspec": {
   "display_name": "Python 3.6 (tensorflow)",
   "language": "python",
   "name": "tensorflow"
  },
  "language_info": {
   "codemirror_mode": {
    "name": "ipython",
    "version": 3
   },
   "file_extension": ".py",
   "mimetype": "text/x-python",
   "name": "python",
   "nbconvert_exporter": "python",
   "pygments_lexer": "ipython3",
   "version": "3.6.10"
  }
 },
 "nbformat": 4,
 "nbformat_minor": 4
}
